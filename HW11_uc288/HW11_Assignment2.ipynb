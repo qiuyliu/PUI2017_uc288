{
 "cells": [
  {
   "cell_type": "markdown",
   "metadata": {},
   "source": [
    "# In-Class K-means Clustering\n",
    "Unisse Chua"
   ]
  },
  {
   "cell_type": "code",
   "execution_count": 1,
   "metadata": {
    "ExecuteTime": {
     "end_time": "2017-12-07T09:28:24.518389",
     "start_time": "2017-12-07T09:28:23.289616"
    },
    "run_control": {
     "frozen": false,
     "read_only": false
    }
   },
   "outputs": [
    {
     "name": "stdout",
     "output_type": "stream",
     "text": [
      "Populating the interactive namespace from numpy and matplotlib\n"
     ]
    }
   ],
   "source": [
    "import numpy as np\n",
    "import pylab as pl\n",
    "import time\n",
    "from IPython.display import display, clear_output\n",
    "%pylab inline"
   ]
  },
  {
   "cell_type": "code",
   "execution_count": 2,
   "metadata": {
    "ExecuteTime": {
     "end_time": "2017-12-07T09:28:52.712437",
     "start_time": "2017-12-07T09:28:52.707765"
    },
    "run_control": {
     "frozen": false,
     "read_only": false
    }
   },
   "outputs": [],
   "source": [
    "np.random.seed(333)"
   ]
  },
  {
   "cell_type": "code",
   "execution_count": 3,
   "metadata": {
    "ExecuteTime": {
     "end_time": "2017-12-07T09:28:52.934772",
     "start_time": "2017-12-07T09:28:52.930841"
    },
    "run_control": {
     "frozen": false,
     "read_only": false
    }
   },
   "outputs": [],
   "source": [
    "random_1=np.random.randn(2,100)"
   ]
  },
  {
   "cell_type": "code",
   "execution_count": 4,
   "metadata": {
    "ExecuteTime": {
     "end_time": "2017-12-07T09:28:53.144071",
     "start_time": "2017-12-07T09:28:53.135607"
    },
    "run_control": {
     "frozen": false,
     "read_only": false
    }
   },
   "outputs": [
    {
     "data": {
      "text/plain": [
       "(2, 100)"
      ]
     },
     "execution_count": 4,
     "metadata": {},
     "output_type": "execute_result"
    }
   ],
   "source": [
    "random_1.shape"
   ]
  },
  {
   "cell_type": "code",
   "execution_count": 5,
   "metadata": {
    "ExecuteTime": {
     "end_time": "2017-12-07T09:28:53.318811",
     "start_time": "2017-12-07T09:28:53.315682"
    },
    "run_control": {
     "frozen": false,
     "read_only": false
    }
   },
   "outputs": [],
   "source": [
    "random_2 = np.random.randn(2,100) + 2"
   ]
  },
  {
   "cell_type": "code",
   "execution_count": 6,
   "metadata": {
    "ExecuteTime": {
     "end_time": "2017-12-07T09:28:53.686700",
     "start_time": "2017-12-07T09:28:53.484198"
    },
    "run_control": {
     "frozen": false,
     "read_only": false
    }
   },
   "outputs": [
    {
     "data": {
      "text/plain": [
       "[<matplotlib.lines.Line2D at 0x7f38bcd3a208>]"
      ]
     },
     "execution_count": 6,
     "metadata": {},
     "output_type": "execute_result"
    },
    {
     "data": {
      "image/png": "[encoded data removed]",
      "text/plain": [
       "<matplotlib.figure.Figure at 0x7f38e09a6b38>"
      ]
     },
     "metadata": {},
     "output_type": "display_data"
    }
   ],
   "source": [
    "pl.plot(random_2[0], random_2[1],'.')"
   ]
  },
  {
   "cell_type": "markdown",
   "metadata": {},
   "source": [
    "### Figure 1. Random points\n",
    "Just a bunch of random points generated for clustering example."
   ]
  },
  {
   "cell_type": "code",
   "execution_count": 7,
   "metadata": {
    "ExecuteTime": {
     "end_time": "2017-12-07T09:28:53.942506",
     "start_time": "2017-12-07T09:28:53.691814"
    },
    "run_control": {
     "frozen": false,
     "read_only": false
    }
   },
   "outputs": [
    {
     "data": {
      "text/plain": [
       "[<matplotlib.lines.Line2D at 0x7f38bf0f3128>]"
      ]
     },
     "execution_count": 7,
     "metadata": {},
     "output_type": "execute_result"
    },
    {
     "data": {
      "image/png": "[encoded data removed]",
      "text/plain": [
       "<matplotlib.figure.Figure at 0x7f38bf0f33c8>"
      ]
     },
     "metadata": {},
     "output_type": "display_data"
    }
   ],
   "source": [
    "pl.plot(random_1[0], random_1[1],'.')\n",
    "pl.plot(random_2[0], random_2[1],'.')"
   ]
  },
  {
   "cell_type": "markdown",
   "metadata": {},
   "source": [
    "### Figure 2. Two sets random points\n",
    "\n",
    "Two sets of random points to see how they can be clustered using k-means clustering."
   ]
  },
  {
   "cell_type": "code",
   "execution_count": 8,
   "metadata": {
    "ExecuteTime": {
     "end_time": "2017-12-07T09:28:54.251112",
     "start_time": "2017-12-07T09:28:54.248081"
    },
    "run_control": {
     "frozen": false,
     "read_only": false
    }
   },
   "outputs": [],
   "source": [
    "clusters=2"
   ]
  },
  {
   "cell_type": "code",
   "execution_count": 9,
   "metadata": {
    "ExecuteTime": {
     "end_time": "2017-12-07T09:28:54.766632",
     "start_time": "2017-12-07T09:28:54.761626"
    },
    "run_control": {
     "frozen": false,
     "read_only": false
    }
   },
   "outputs": [],
   "source": [
    "random_stack = np.hstack([random_1, random_2])"
   ]
  },
  {
   "cell_type": "code",
   "execution_count": 10,
   "metadata": {
    "ExecuteTime": {
     "end_time": "2017-12-07T09:33:43.077041",
     "start_time": "2017-12-07T09:33:43.069516"
    },
    "run_control": {
     "frozen": false,
     "read_only": false
    }
   },
   "outputs": [],
   "source": [
    "min(random_stack[0]), max(random_stack[0])\n",
    "\n",
    "centers = np.array([[0.,-1.], [0,-2]]) \n",
    "#np.array((np.random.rand(4)   * (max(random_stack[0]) - min(random_stack[0]))) + min(random_stack[0])).reshape(2,2)"
   ]
  },
  {
   "cell_type": "code",
   "execution_count": 11,
   "metadata": {
    "ExecuteTime": {
     "end_time": "2017-12-07T09:33:43.879955",
     "start_time": "2017-12-07T09:33:43.661410"
    },
    "run_control": {
     "frozen": false,
     "read_only": false
    }
   },
   "outputs": [
    {
     "data": {
      "text/plain": [
       "Text(0,0.5,'y')"
      ]
     },
     "execution_count": 11,
     "metadata": {},
     "output_type": "execute_result"
    },
    {
     "data": {
      "image/png": "[encoded data removed]",
      "text/plain": [
       "<matplotlib.figure.Figure at 0x7f38bca892e8>"
      ]
     },
     "metadata": {},
     "output_type": "display_data"
    }
   ],
   "source": [
    "pl.plot(random_1[0], random_1[1],'r.', ms=8, alpha=0.5)\n",
    "pl.plot(random_2[0], random_2[1],'b.', ms=8, alpha=0.5)\n",
    "pl.plot(centers[0,0], centers[0,1],'k*', ms=15)\n",
    "pl.plot(centers[1,0], centers[1,1],'y*', ms=15)\n",
    "pl.xlabel('x')\n",
    "pl.ylabel('y')"
   ]
  },
  {
   "cell_type": "markdown",
   "metadata": {},
   "source": [
    "### Figure 3. Two random set of points with initial centers\n",
    "Same as Figure 2, only with the stars as the initial centers of the clusters."
   ]
  },
  {
   "cell_type": "code",
   "execution_count": 12,
   "metadata": {
    "ExecuteTime": {
     "end_time": "2017-12-07T09:33:44.481446",
     "start_time": "2017-12-07T09:33:44.473847"
    },
    "run_control": {
     "frozen": false,
     "read_only": false
    }
   },
   "outputs": [],
   "source": [
    "def distmetric(x, y, center):\n",
    "    distmetric = np.sqrt( (x - center[0])**2 + (y - center[1])**2)\n",
    "    return distmetric"
   ]
  },
  {
   "cell_type": "code",
   "execution_count": 13,
   "metadata": {
    "ExecuteTime": {
     "end_time": "2017-12-07T09:33:45.225547",
     "start_time": "2017-12-07T09:33:45.208931"
    },
    "run_control": {
     "frozen": false,
     "marked": false,
     "read_only": false
    }
   },
   "outputs": [],
   "source": [
    "cl1 = distmetric(random_1[0], random_1[1], centers[0]) < distmetric(random_1[0], random_1[1], centers[1])\n",
    "cl2 = distmetric(random_2[0], random_2[1], centers[0]) < distmetric(random_2[0], random_2[1], centers[1])"
   ]
  },
  {
   "cell_type": "code",
   "execution_count": 14,
   "metadata": {
    "ExecuteTime": {
     "end_time": "2017-12-07T09:33:49.272932",
     "start_time": "2017-12-07T09:33:47.064358"
    },
    "scrolled": true
   },
   "outputs": [
    {
     "data": {
      "text/plain": [
       "(array([[ 0., -1.],\n",
       "        [ 0., -2.]]), array([[ 0.96972306,  1.06522176],\n",
       "        [ 1.02400655, -2.10176012]]))"
      ]
     },
     "execution_count": 14,
     "metadata": {},
     "output_type": "execute_result"
    }
   ],
   "source": [
    "newc = np.array(\n",
    "    [np.hstack([random_1[:, cl1], random_2[:, cl2]]).mean(axis=1), \n",
    "        np.hstack([random_1[:, ~cl1], random_2[:, ~cl2]]).mean(axis=1)])\n",
    "centers, newc"
   ]
  },
  {
   "cell_type": "code",
   "execution_count": 15,
   "metadata": {},
   "outputs": [
    {
     "data": {
      "image/png": "[encoded data removed]",
      "text/plain": [
       "<matplotlib.figure.Figure at 0x7f38bca16a90>"
      ]
     },
     "metadata": {},
     "output_type": "display_data"
    },
    {
     "name": "stdout",
     "output_type": "stream",
     "text": [
      "7\n",
      "[[ 2.01522567  1.93589473]\n",
      " [-0.09470755  0.04900058]] [[ 2.01522567  1.93589473]\n",
      " [-0.09470755  0.04900058]]\n"
     ]
    },
    {
     "data": {
      "image/png": "[encoded data removed]",
      "text/plain": [
       "<matplotlib.figure.Figure at 0x7f38bca16a90>"
      ]
     },
     "metadata": {},
     "output_type": "display_data"
    },
    {
     "data": {
      "text/plain": [
       "array([ 2.01522567,  1.93589473])"
      ]
     },
     "execution_count": 15,
     "metadata": {},
     "output_type": "execute_result"
    }
   ],
   "source": [
    "it = 0\n",
    "\n",
    "fig, ax = plt.subplots(figsize=(10,5))\n",
    "\n",
    "l1, = ax.plot(np.hstack([random_1[:, cl1], random_2[:, cl2]])[0], \n",
    "                      np.hstack([random_1[:, cl1], random_2[:, cl2]])[1], 'r.', ms=8, alpha=0.5)\n",
    "l2, = ax.plot(np.hstack([random_1[:, ~cl1], random_2[:, ~cl2]])[0], \n",
    "                      np.hstack([random_1[:, ~cl1], random_2[:, ~cl2]])[1], 'b.', ms=8, alpha=0.5)\n",
    "l3, = ax.plot(centers[0,0], centers[0,1], 'k*', ms=15)\n",
    "l4, = ax.plot(centers[1,0], centers[1,1], 'y*', ms=15)\n",
    "\n",
    "ax.set_xlabel('x', fontsize=15)\n",
    "ax.set_ylabel('y', fontsize=15)\n",
    "ax.set_title('K-means Clustering (k = 2)', fontsize=20)\n",
    "\n",
    "display(fig)\n",
    "\n",
    "while (not (centers == newc).all()) or it > 10:\n",
    "    centers = newc\n",
    "    \n",
    "    l1.set_data(np.hstack([random_1[:, cl1], random_2[:, cl2]])[0], \n",
    "                  np.hstack([random_1[:, cl1], random_2[:, cl2]])[1])\n",
    "    l2.set_data(np.hstack([random_1[:, ~cl1], random_2[:, ~cl2]])[0], \n",
    "                      np.hstack([random_1[:, ~cl1], random_2[:, ~cl2]])[1])\n",
    "    l3.set_data(centers[0,0], centers[0,1])\n",
    "    l4.set_data(centers[1,0], centers[1,1])\n",
    "    \n",
    "    time.sleep(1)\n",
    "    clear_output(wait=True)\n",
    "    display(fig)\n",
    "    \n",
    "    cl1 = distmetric(random_1[0], random_1[1], centers[0]) < distmetric(random_1[0], random_1[1], centers[1])\n",
    "    cl2 = distmetric(random_2[0], random_2[1], centers[0]) < distmetric(random_2[0], random_2[1], centers[1])\n",
    "    newc = np.array([np.hstack([random_1[:, cl1], random_2[:, cl2]]).mean(axis=1), \n",
    "                     np.hstack([random_1[:, ~cl1], random_2[:, ~cl2]]).mean(axis=1)])\n",
    "    print(it)\n",
    "    print (centers, newc)\n",
    "    it += 1\n",
    "\n",
    "plt.show()\n",
    "newc[0]"
   ]
  },
  {
   "cell_type": "markdown",
   "metadata": {},
   "source": [
    "### Figure 4. K-means Clustering in Practice\n",
    "When run, this shows the process of the K-means clustering technique where the centers \"move\" after every iteration until a certain convergence. In this case, the convergence rule is set to when the centers of the previous iteration and the centers of the current iteration is the same or when it reaches 10 iterations.\n",
    "\n",
    "This plot shows the result of the K-means clustering with two clusters."
   ]
  }
 ],
 "metadata": {
  "kernelspec": {
   "display_name": "PUI2016_Python3",
   "language": "python",
   "name": "pui2016_python3"
  },
  "language_info": {
   "codemirror_mode": {
    "name": "ipython",
    "version": 3
   },
   "file_extension": ".py",
   "mimetype": "text/x-python",
   "name": "python",
   "nbconvert_exporter": "python",
   "pygments_lexer": "ipython3",
   "version": "3.5.4"
  },
  "toc": {
   "colors": {
    "hover_highlight": "#DAA520",
    "running_highlight": "#FF0000",
    "selected_highlight": "#FFD700"
   },
   "moveMenuLeft": true,
   "nav_menu": {
    "height": "11px",
    "width": "251px"
   },
   "navigate_menu": true,
   "number_sections": true,
   "sideBar": true,
   "threshold": 4,
   "toc_cell": false,
   "toc_section_display": "block",
   "toc_window_display": false
  }
 },
 "nbformat": 4,
 "nbformat_minor": 1
}
